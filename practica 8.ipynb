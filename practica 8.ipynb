{
 "cells": [
  {
   "cell_type": "code",
   "execution_count": null,
   "metadata": {},
   "outputs": [],
   "source": [
    "import pandas as pd\n",
    "from sklearn.linear_model import LinearRegression\n",
    "from sklearn.model_selection import train_test_split\n",
    "from sklearn.metrics import mean_squared_error, r2_score\n",
    "from datetime import datetime\n",
    "import plotly.express as px"
   ]
  },
  {
   "cell_type": "code",
   "execution_count": null,
   "metadata": {},
   "outputs": [],
   "source": [
    "df_t = pd.read_csv(\"Bird_strikes.csv\")\n",
    "df=df_t.loc[:,[\"MakeModel\",\"NumberStruckActual\",'Effect','Cost','Altitude','FlightDate']]\n",
    "df\n",
    "\n"
   ]
  },
  {
   "cell_type": "code",
   "execution_count": null,
   "metadata": {},
   "outputs": [],
   "source": [
    "df.dropna(inplace=True)\n",
    "df['Cost'] = df['Cost'].str.replace(',', '').astype(float)\n",
    "df['FlightDate'] = pd.to_datetime(df['FlightDate'])\n",
    "df['Year'] = df['FlightDate'].dt.year\n",
    "df['Month'] = df['FlightDate'].dt.month\n",
    "df['Day'] = df['FlightDate'].dt.day\n",
    "df\n"
   ]
  },
  {
   "cell_type": "code",
   "execution_count": null,
   "metadata": {},
   "outputs": [],
   "source": [
    "X = df[['Year', 'Month', 'Day']]\n",
    "y = df['Cost']\n",
    "\n",
    "X_train, X_test, y_train, y_test = train_test_split(X, y, test_size=0.3, random_state=42)\n"
   ]
  },
  {
   "cell_type": "code",
   "execution_count": null,
   "metadata": {},
   "outputs": [],
   "source": [
    "model = LinearRegression()\n",
    "\n",
    "model.fit(X_train, y_train)\n",
    "\n",
    "y_pred = model.predict(X_test)\n"
   ]
  },
  {
   "cell_type": "code",
   "execution_count": null,
   "metadata": {},
   "outputs": [],
   "source": [
    "r2 = r2_score(y_test, y_pred)\n",
    "print(f'R² score: {r2:.2f}')\n",
    "\n",
    "mse = mean_squared_error(y_test, y_pred)\n",
    "print(f'Mean Squared Error: {mse:.2f}')\n"
   ]
  },
  {
   "cell_type": "code",
   "execution_count": null,
   "metadata": {},
   "outputs": [],
   "source": [
    "new_date = pd.DataFrame({'Year': [2025], 'Month': [4], 'Day': [20]})\n",
    "new_cost_pred = model.predict(new_date)\n",
    "print(f'Predicted Cost for 2025-4-20: {new_cost_pred[0]:.2f}')\n"
   ]
  },
  {
   "cell_type": "code",
   "execution_count": null,
   "metadata": {},
   "outputs": [],
   "source": [
    "results = pd.DataFrame({'Date': X_test.apply(lambda row: datetime(row['Year'], row['Month'], row['Day']), axis=1), 'Actual': y_test, 'Predicted': y_pred})\n",
    "\n",
    "fig = px.line(results, x='Date', y=['Actual', 'Predicted'], title='Actual vs Predicted Cost Over Time')\n",
    "fig.update_layout(xaxis_title='Date', yaxis_title='Cost')\n",
    "\n",
    "fig.show()\n"
   ]
  }
 ],
 "metadata": {
  "kernelspec": {
   "display_name": ".venv",
   "language": "python",
   "name": "python3"
  },
  "language_info": {
   "codemirror_mode": {
    "name": "ipython",
    "version": 3
   },
   "file_extension": ".py",
   "mimetype": "text/x-python",
   "name": "python",
   "nbconvert_exporter": "python",
   "pygments_lexer": "ipython3",
   "version": "3.12.1"
  }
 },
 "nbformat": 4,
 "nbformat_minor": 2
}
